{
 "cells": [
  {
   "cell_type": "code",
   "execution_count": 1,
   "metadata": {},
   "outputs": [
    {
     "name": "stdout",
     "output_type": "stream",
     "text": [
      "[\"[Synset('angel.n.01'), Synset('bat.n.01'), Synset('bird.n.01'), Synset('insect.n.01')]\", \"[Synset('airplane.n.01')]\", '[]', \"[Synset('division.n.09')]\", '[]', '[]', '[]', '[]', \"[Synset('bird.n.02')]\", \"[Synset('car.n.01')]\", \"[Synset('building.n.01')]\", '[]']\n"
     ]
    }
   ],
   "source": [
    "#part-of relationship(HOLONYMS)\n",
    "from nltk.corpus import wordnet as wn\n",
    "syn=wn.synsets('wing')#A synonym set, or synset, is a group of synonyms. \n",
    "print([str(syns.part_holonyms()) for syns in syn])#combine then form"
   ]
  },
  {
   "cell_type": "code",
   "execution_count": 2,
   "metadata": {},
   "outputs": [
    {
     "name": "stdout",
     "output_type": "stream",
     "text": [
      "[\"[Synset('accelerator.n.01'), Synset('air_bag.n.01'), Synset('auto_accessory.n.01'), Synset('automobile_engine.n.01'), Synset('automobile_horn.n.01'), Synset('buffer.n.06'), Synset('bumper.n.02'), Synset('car_door.n.01'), Synset('car_mirror.n.01'), Synset('car_seat.n.01'), Synset('car_window.n.01'), Synset('fender.n.01'), Synset('first_gear.n.01'), Synset('floorboard.n.02'), Synset('gasoline_engine.n.01'), Synset('glove_compartment.n.01'), Synset('grille.n.02'), Synset('high_gear.n.01'), Synset('hood.n.09'), Synset('luggage_compartment.n.01'), Synset('rear_window.n.01'), Synset('reverse.n.02'), Synset('roof.n.02'), Synset('running_board.n.01'), Synset('stabilizer_bar.n.01'), Synset('sunroof.n.01'), Synset('tail_fin.n.02'), Synset('third_gear.n.01'), Synset('window.n.02')]\", \"[Synset('suspension.n.05')]\", '[]', '[]', '[]']\n"
     ]
    }
   ],
   "source": [
    "#has-a relationship(MERONYMS)\n",
    "from nltk.corpus import wordnet as wn\n",
    "syn=wn.synsets('car')\n",
    "print([str(syns.part_meronyms()) for syns in syn])#consists of"
   ]
  },
  {
   "cell_type": "code",
   "execution_count": null,
   "metadata": {
    "collapsed": true
   },
   "outputs": [],
   "source": []
  }
 ],
 "metadata": {
  "kernelspec": {
   "display_name": "Python 3",
   "language": "python",
   "name": "python3"
  },
  "language_info": {
   "codemirror_mode": {
    "name": "ipython",
    "version": 3
   },
   "file_extension": ".py",
   "mimetype": "text/x-python",
   "name": "python",
   "nbconvert_exporter": "python",
   "pygments_lexer": "ipython3",
   "version": "3.6.1"
  }
 },
 "nbformat": 4,
 "nbformat_minor": 2
}
